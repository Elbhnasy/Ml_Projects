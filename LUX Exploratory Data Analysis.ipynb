{
 "cells": [
  {
   "cell_type": "code",
   "execution_count": 1,
   "id": "e6dd3caf",
   "metadata": {},
   "outputs": [
    {
     "name": "stdout",
     "output_type": "stream",
     "text": [
      "Collecting lux-api\n",
      "  Downloading lux-api-0.4.0.tar.gz (123 kB)\n",
      "  Installing build dependencies: started\n",
      "  Installing build dependencies: finished with status 'done'\n",
      "  Getting requirements to build wheel: started\n",
      "  Getting requirements to build wheel: finished with status 'done'\n",
      "    Preparing wheel metadata: started\n",
      "    Preparing wheel metadata: finished with status 'done'\n",
      "Collecting altair>=4.0.0\n",
      "  Downloading altair-4.2.0-py3-none-any.whl (812 kB)\n",
      "Collecting iso3166\n",
      "  Downloading iso3166-2.0.2-py3-none-any.whl (8.5 kB)\n",
      "Requirement already satisfied: scikit-learn>=0.22 in c:\\users\\khaled\\anaconda3\\lib\\site-packages (from lux-api) (0.24.2)\n",
      "Requirement already satisfied: numpy>=1.16.5 in c:\\users\\khaled\\anaconda3\\lib\\site-packages (from lux-api) (1.20.3)\n",
      "Collecting pandas<1.3.0,>=1.2.0\n",
      "  Downloading pandas-1.2.5-cp39-cp39-win_amd64.whl (9.3 MB)\n",
      "Requirement already satisfied: matplotlib>=3.0.0 in c:\\users\\khaled\\anaconda3\\lib\\site-packages (from lux-api) (3.4.3)\n",
      "Requirement already satisfied: scipy>=1.3.3 in c:\\users\\khaled\\anaconda3\\lib\\site-packages (from lux-api) (1.7.1)\n",
      "Requirement already satisfied: autopep8>=1.5 in c:\\users\\khaled\\anaconda3\\lib\\site-packages (from lux-api) (1.5.7)\n",
      "Collecting lux-widget>=0.1.4\n",
      "  Downloading lux-widget-0.1.10.tar.gz (2.5 MB)\n",
      "Requirement already satisfied: entrypoints in c:\\users\\khaled\\anaconda3\\lib\\site-packages (from altair>=4.0.0->lux-api) (0.3)\n",
      "Requirement already satisfied: toolz in c:\\users\\khaled\\anaconda3\\lib\\site-packages (from altair>=4.0.0->lux-api) (0.11.1)\n",
      "Requirement already satisfied: jinja2 in c:\\users\\khaled\\anaconda3\\lib\\site-packages (from altair>=4.0.0->lux-api) (2.11.3)\n",
      "Requirement already satisfied: jsonschema>=3.0 in c:\\users\\khaled\\anaconda3\\lib\\site-packages (from altair>=4.0.0->lux-api) (3.2.0)\n",
      "Requirement already satisfied: toml in c:\\users\\khaled\\anaconda3\\lib\\site-packages (from autopep8>=1.5->lux-api) (0.10.2)\n",
      "Requirement already satisfied: pycodestyle>=2.7.0 in c:\\users\\khaled\\anaconda3\\lib\\site-packages (from autopep8>=1.5->lux-api) (2.7.0)\n",
      "Requirement already satisfied: setuptools in c:\\users\\khaled\\anaconda3\\lib\\site-packages (from jsonschema>=3.0->altair>=4.0.0->lux-api) (58.0.4)\n",
      "Requirement already satisfied: six>=1.11.0 in c:\\users\\khaled\\anaconda3\\lib\\site-packages (from jsonschema>=3.0->altair>=4.0.0->lux-api) (1.16.0)\n",
      "Requirement already satisfied: attrs>=17.4.0 in c:\\users\\khaled\\anaconda3\\lib\\site-packages (from jsonschema>=3.0->altair>=4.0.0->lux-api) (21.2.0)\n",
      "Requirement already satisfied: pyrsistent>=0.14.0 in c:\\users\\khaled\\anaconda3\\lib\\site-packages (from jsonschema>=3.0->altair>=4.0.0->lux-api) (0.18.0)\n",
      "Requirement already satisfied: notebook>=4.0.0 in c:\\users\\khaled\\anaconda3\\lib\\site-packages (from lux-widget>=0.1.4->lux-api) (6.4.5)\n",
      "Requirement already satisfied: ipywidgets>=7.5.0 in c:\\users\\khaled\\anaconda3\\lib\\site-packages (from lux-widget>=0.1.4->lux-api) (7.6.5)\n",
      "Requirement already satisfied: jupyterlab-widgets>=1.0.0 in c:\\users\\khaled\\anaconda3\\lib\\site-packages (from ipywidgets>=7.5.0->lux-widget>=0.1.4->lux-api) (1.0.0)\n",
      "Requirement already satisfied: ipykernel>=4.5.1 in c:\\users\\khaled\\anaconda3\\lib\\site-packages (from ipywidgets>=7.5.0->lux-widget>=0.1.4->lux-api) (6.4.1)\n",
      "Requirement already satisfied: ipython-genutils~=0.2.0 in c:\\users\\khaled\\anaconda3\\lib\\site-packages (from ipywidgets>=7.5.0->lux-widget>=0.1.4->lux-api) (0.2.0)\n",
      "Requirement already satisfied: ipython>=4.0.0 in c:\\users\\khaled\\anaconda3\\lib\\site-packages (from ipywidgets>=7.5.0->lux-widget>=0.1.4->lux-api) (7.29.0)\n",
      "Requirement already satisfied: traitlets>=4.3.1 in c:\\users\\khaled\\anaconda3\\lib\\site-packages (from ipywidgets>=7.5.0->lux-widget>=0.1.4->lux-api) (5.1.0)\n",
      "Requirement already satisfied: widgetsnbextension~=3.5.0 in c:\\users\\khaled\\anaconda3\\lib\\site-packages (from ipywidgets>=7.5.0->lux-widget>=0.1.4->lux-api) (3.5.1)\n",
      "Requirement already satisfied: nbformat>=4.2.0 in c:\\users\\khaled\\anaconda3\\lib\\site-packages (from ipywidgets>=7.5.0->lux-widget>=0.1.4->lux-api) (5.1.3)\n",
      "Requirement already satisfied: debugpy<2.0,>=1.0.0 in c:\\users\\khaled\\anaconda3\\lib\\site-packages (from ipykernel>=4.5.1->ipywidgets>=7.5.0->lux-widget>=0.1.4->lux-api) (1.4.1)\n",
      "Requirement already satisfied: matplotlib-inline<0.2.0,>=0.1.0 in c:\\users\\khaled\\anaconda3\\lib\\site-packages (from ipykernel>=4.5.1->ipywidgets>=7.5.0->lux-widget>=0.1.4->lux-api) (0.1.2)\n",
      "Requirement already satisfied: jupyter-client<8.0 in c:\\users\\khaled\\anaconda3\\lib\\site-packages (from ipykernel>=4.5.1->ipywidgets>=7.5.0->lux-widget>=0.1.4->lux-api) (6.1.12)\n",
      "Requirement already satisfied: tornado<7.0,>=4.2 in c:\\users\\khaled\\anaconda3\\lib\\site-packages (from ipykernel>=4.5.1->ipywidgets>=7.5.0->lux-widget>=0.1.4->lux-api) (6.1)\n",
      "Requirement already satisfied: pygments in c:\\users\\khaled\\anaconda3\\lib\\site-packages (from ipython>=4.0.0->ipywidgets>=7.5.0->lux-widget>=0.1.4->lux-api) (2.10.0)\n",
      "Requirement already satisfied: decorator in c:\\users\\khaled\\anaconda3\\lib\\site-packages (from ipython>=4.0.0->ipywidgets>=7.5.0->lux-widget>=0.1.4->lux-api) (5.1.0)\n",
      "Requirement already satisfied: pickleshare in c:\\users\\khaled\\anaconda3\\lib\\site-packages (from ipython>=4.0.0->ipywidgets>=7.5.0->lux-widget>=0.1.4->lux-api) (0.7.5)\n",
      "Requirement already satisfied: backcall in c:\\users\\khaled\\anaconda3\\lib\\site-packages (from ipython>=4.0.0->ipywidgets>=7.5.0->lux-widget>=0.1.4->lux-api) (0.2.0)\n",
      "Requirement already satisfied: prompt-toolkit!=3.0.0,!=3.0.1,<3.1.0,>=2.0.0 in c:\\users\\khaled\\anaconda3\\lib\\site-packages (from ipython>=4.0.0->ipywidgets>=7.5.0->lux-widget>=0.1.4->lux-api) (3.0.20)\n",
      "Requirement already satisfied: colorama in c:\\users\\khaled\\anaconda3\\lib\\site-packages (from ipython>=4.0.0->ipywidgets>=7.5.0->lux-widget>=0.1.4->lux-api) (0.4.4)\n",
      "Requirement already satisfied: jedi>=0.16 in c:\\users\\khaled\\anaconda3\\lib\\site-packages (from ipython>=4.0.0->ipywidgets>=7.5.0->lux-widget>=0.1.4->lux-api) (0.18.0)\n",
      "Requirement already satisfied: parso<0.9.0,>=0.8.0 in c:\\users\\khaled\\anaconda3\\lib\\site-packages (from jedi>=0.16->ipython>=4.0.0->ipywidgets>=7.5.0->lux-widget>=0.1.4->lux-api) (0.8.2)\n",
      "Requirement already satisfied: python-dateutil>=2.1 in c:\\users\\khaled\\anaconda3\\lib\\site-packages (from jupyter-client<8.0->ipykernel>=4.5.1->ipywidgets>=7.5.0->lux-widget>=0.1.4->lux-api) (2.8.2)\n",
      "Requirement already satisfied: jupyter-core>=4.6.0 in c:\\users\\khaled\\anaconda3\\lib\\site-packages (from jupyter-client<8.0->ipykernel>=4.5.1->ipywidgets>=7.5.0->lux-widget>=0.1.4->lux-api) (4.8.1)\n",
      "Requirement already satisfied: pyzmq>=13 in c:\\users\\khaled\\anaconda3\\lib\\site-packages (from jupyter-client<8.0->ipykernel>=4.5.1->ipywidgets>=7.5.0->lux-widget>=0.1.4->lux-api) (22.2.1)\n",
      "Requirement already satisfied: pywin32>=1.0 in c:\\users\\khaled\\anaconda3\\lib\\site-packages (from jupyter-core>=4.6.0->jupyter-client<8.0->ipykernel>=4.5.1->ipywidgets>=7.5.0->lux-widget>=0.1.4->lux-api) (228)\n",
      "Requirement already satisfied: pyparsing>=2.2.1 in c:\\users\\khaled\\anaconda3\\lib\\site-packages (from matplotlib>=3.0.0->lux-api) (3.0.4)\n",
      "Requirement already satisfied: pillow>=6.2.0 in c:\\users\\khaled\\anaconda3\\lib\\site-packages (from matplotlib>=3.0.0->lux-api) (8.4.0)\n",
      "Requirement already satisfied: cycler>=0.10 in c:\\users\\khaled\\anaconda3\\lib\\site-packages (from matplotlib>=3.0.0->lux-api) (0.10.0)\n",
      "Requirement already satisfied: kiwisolver>=1.0.1 in c:\\users\\khaled\\anaconda3\\lib\\site-packages (from matplotlib>=3.0.0->lux-api) (1.3.1)\n",
      "Requirement already satisfied: terminado>=0.8.3 in c:\\users\\khaled\\anaconda3\\lib\\site-packages (from notebook>=4.0.0->lux-widget>=0.1.4->lux-api) (0.9.4)\n",
      "Requirement already satisfied: argon2-cffi in c:\\users\\khaled\\anaconda3\\lib\\site-packages (from notebook>=4.0.0->lux-widget>=0.1.4->lux-api) (20.1.0)\n",
      "Requirement already satisfied: nbconvert in c:\\users\\khaled\\anaconda3\\lib\\site-packages (from notebook>=4.0.0->lux-widget>=0.1.4->lux-api) (6.1.0)\n",
      "Requirement already satisfied: Send2Trash>=1.5.0 in c:\\users\\khaled\\anaconda3\\lib\\site-packages (from notebook>=4.0.0->lux-widget>=0.1.4->lux-api) (1.8.0)\n",
      "Requirement already satisfied: prometheus-client in c:\\users\\khaled\\anaconda3\\lib\\site-packages (from notebook>=4.0.0->lux-widget>=0.1.4->lux-api) (0.11.0)\n",
      "Requirement already satisfied: pytz>=2017.3 in c:\\users\\khaled\\anaconda3\\lib\\site-packages (from pandas<1.3.0,>=1.2.0->lux-api) (2021.3)\n",
      "Requirement already satisfied: wcwidth in c:\\users\\khaled\\anaconda3\\lib\\site-packages (from prompt-toolkit!=3.0.0,!=3.0.1,<3.1.0,>=2.0.0->ipython>=4.0.0->ipywidgets>=7.5.0->lux-widget>=0.1.4->lux-api) (0.2.5)\n",
      "Requirement already satisfied: threadpoolctl>=2.0.0 in c:\\users\\khaled\\anaconda3\\lib\\site-packages (from scikit-learn>=0.22->lux-api) (2.2.0)\n",
      "Requirement already satisfied: joblib>=0.11 in c:\\users\\khaled\\anaconda3\\lib\\site-packages (from scikit-learn>=0.22->lux-api) (1.1.0)\n",
      "Requirement already satisfied: pywinpty>=0.5 in c:\\users\\khaled\\anaconda3\\lib\\site-packages (from terminado>=0.8.3->notebook>=4.0.0->lux-widget>=0.1.4->lux-api) (0.5.7)\n",
      "Requirement already satisfied: cffi>=1.0.0 in c:\\users\\khaled\\anaconda3\\lib\\site-packages (from argon2-cffi->notebook>=4.0.0->lux-widget>=0.1.4->lux-api) (1.14.6)\n",
      "Requirement already satisfied: pycparser in c:\\users\\khaled\\anaconda3\\lib\\site-packages (from cffi>=1.0.0->argon2-cffi->notebook>=4.0.0->lux-widget>=0.1.4->lux-api) (2.20)\n",
      "Requirement already satisfied: MarkupSafe>=0.23 in c:\\users\\khaled\\anaconda3\\lib\\site-packages (from jinja2->altair>=4.0.0->lux-api) (1.1.1)\n",
      "Requirement already satisfied: jupyterlab-pygments in c:\\users\\khaled\\anaconda3\\lib\\site-packages (from nbconvert->notebook>=4.0.0->lux-widget>=0.1.4->lux-api) (0.1.2)\n",
      "Requirement already satisfied: defusedxml in c:\\users\\khaled\\anaconda3\\lib\\site-packages (from nbconvert->notebook>=4.0.0->lux-widget>=0.1.4->lux-api) (0.7.1)\n",
      "Requirement already satisfied: bleach in c:\\users\\khaled\\anaconda3\\lib\\site-packages (from nbconvert->notebook>=4.0.0->lux-widget>=0.1.4->lux-api) (4.0.0)\n",
      "Requirement already satisfied: testpath in c:\\users\\khaled\\anaconda3\\lib\\site-packages (from nbconvert->notebook>=4.0.0->lux-widget>=0.1.4->lux-api) (0.5.0)\n",
      "Requirement already satisfied: nbclient<0.6.0,>=0.5.0 in c:\\users\\khaled\\anaconda3\\lib\\site-packages (from nbconvert->notebook>=4.0.0->lux-widget>=0.1.4->lux-api) (0.5.3)\n",
      "Requirement already satisfied: pandocfilters>=1.4.1 in c:\\users\\khaled\\anaconda3\\lib\\site-packages (from nbconvert->notebook>=4.0.0->lux-widget>=0.1.4->lux-api) (1.4.3)\n",
      "Requirement already satisfied: mistune<2,>=0.8.1 in c:\\users\\khaled\\anaconda3\\lib\\site-packages (from nbconvert->notebook>=4.0.0->lux-widget>=0.1.4->lux-api) (0.8.4)\n",
      "Requirement already satisfied: nest-asyncio in c:\\users\\khaled\\anaconda3\\lib\\site-packages (from nbclient<0.6.0,>=0.5.0->nbconvert->notebook>=4.0.0->lux-widget>=0.1.4->lux-api) (1.5.1)\n",
      "Requirement already satisfied: async-generator in c:\\users\\khaled\\anaconda3\\lib\\site-packages (from nbclient<0.6.0,>=0.5.0->nbconvert->notebook>=4.0.0->lux-widget>=0.1.4->lux-api) (1.10)\n",
      "Requirement already satisfied: webencodings in c:\\users\\khaled\\anaconda3\\lib\\site-packages (from bleach->nbconvert->notebook>=4.0.0->lux-widget>=0.1.4->lux-api) (0.5.1)\n",
      "Requirement already satisfied: packaging in c:\\users\\khaled\\anaconda3\\lib\\site-packages (from bleach->nbconvert->notebook>=4.0.0->lux-widget>=0.1.4->lux-api) (21.0)\n",
      "Building wheels for collected packages: lux-api, lux-widget\n",
      "  Building wheel for lux-api (PEP 517): started\n",
      "  Building wheel for lux-api (PEP 517): finished with status 'done'\n",
      "  Created wheel for lux-api: filename=lux_api-0.4.0-py3-none-any.whl size=181967 sha256=d7ca0093be6430b562b76bcc824319674849f990de7ada009807f02275674f12\n",
      "  Stored in directory: c:\\users\\khaled\\appdata\\local\\pip\\cache\\wheels\\3a\\d6\\3b\\289de22682599e4b9c9d71a186a776af48bcd8932a7beb3a49\n",
      "  Building wheel for lux-widget (setup.py): started\n",
      "  Building wheel for lux-widget (setup.py): finished with status 'done'\n",
      "  Created wheel for lux-widget: filename=lux_widget-0.1.10-py3-none-any.whl size=2539952 sha256=79cd12ee1c034969f4f4b0c33fab0dc4c345c0e3523de454dcfe26aaf7857307\n",
      "  Stored in directory: c:\\users\\khaled\\appdata\\local\\pip\\cache\\wheels\\1a\\33\\62\\dce4b583f9cd9956ca0de9e6b234e4e16c1b04a1c9f29432ba\n",
      "Successfully built lux-api lux-widget\n",
      "Installing collected packages: pandas, lux-widget, iso3166, altair, lux-api\n",
      "  Attempting uninstall: pandas\n",
      "    Found existing installation: pandas 1.3.4\n",
      "    Uninstalling pandas-1.3.4:\n",
      "      Successfully uninstalled pandas-1.3.4\n",
      "Successfully installed altair-4.2.0 iso3166-2.0.2 lux-api-0.4.0 lux-widget-0.1.10 pandas-1.2.5\n",
      "Note: you may need to restart the kernel to use updated packages.\n"
     ]
    }
   ],
   "source": [
    "# Install LUX\n",
    "pip install lux-api"
   ]
  },
  {
   "cell_type": "code",
   "execution_count": 7,
   "id": "bc1dd243",
   "metadata": {},
   "outputs": [],
   "source": [
    "#Enabel Lux Widget\n",
    "#Run this in conda promet\n",
    "jupyter nbextension install --py luxwidget\n",
    "jupyter nbextension enable luxwidget --py"
   ]
  },
  {
   "cell_type": "code",
   "execution_count": 8,
   "id": "b08ff68e",
   "metadata": {},
   "outputs": [],
   "source": [
    "import pandas as pd \n",
    "import lux"
   ]
  },
  {
   "cell_type": "code",
   "execution_count": 9,
   "id": "1a4dff20",
   "metadata": {},
   "outputs": [],
   "source": [
    "df=pd.read_csv(\"diabetes.csv\") "
   ]
  },
  {
   "cell_type": "code",
   "execution_count": 11,
   "id": "1e83d44c",
   "metadata": {},
   "outputs": [
    {
     "data": {
      "application/vnd.jupyter.widget-view+json": {
       "model_id": "68fd22a372f24fabbbf64d000d7d50e3",
       "version_major": 2,
       "version_minor": 0
      },
      "text/plain": [
       "Button(description='Toggle Pandas/Lux', layout=Layout(top='5px', width='140px'), style=ButtonStyle())"
      ]
     },
     "metadata": {},
     "output_type": "display_data"
    },
    {
     "data": {
      "application/vnd.jupyter.widget-view+json": {
       "model_id": "1041e4f781ea4c87a0bca354ade9d354",
       "version_major": 2,
       "version_minor": 0
      },
      "text/plain": [
       "Output()"
      ]
     },
     "metadata": {},
     "output_type": "display_data"
    }
   ],
   "source": [
    "df"
   ]
  },
  {
   "cell_type": "markdown",
   "id": "5de2916d",
   "metadata": {},
   "source": [
    "Out come v.s BMI"
   ]
  },
  {
   "cell_type": "code",
   "execution_count": 15,
   "id": "c431e7e1",
   "metadata": {},
   "outputs": [
    {
     "data": {
      "application/vnd.jupyter.widget-view+json": {
       "model_id": "691177475a194f17b39c9006ad7420e9",
       "version_major": 2,
       "version_minor": 0
      },
      "text/plain": [
       "Button(description='Toggle Pandas/Lux', layout=Layout(top='5px', width='140px'), style=ButtonStyle())"
      ]
     },
     "metadata": {},
     "output_type": "display_data"
    },
    {
     "data": {
      "application/vnd.jupyter.widget-view+json": {
       "model_id": "bee54da4115e48b4ae89697beb2158ec",
       "version_major": 2,
       "version_minor": 0
      },
      "text/plain": [
       "Output()"
      ]
     },
     "metadata": {},
     "output_type": "display_data"
    }
   ],
   "source": [
    "df.set_intent([\"Outcome\",\"BMI\"])\n",
    "df"
   ]
  },
  {
   "cell_type": "code",
   "execution_count": 16,
   "id": "069fef63",
   "metadata": {},
   "outputs": [
    {
     "data": {
      "application/vnd.jupyter.widget-view+json": {
       "model_id": "fb8996a4fa9b4896a1495185d812e33e",
       "version_major": 2,
       "version_minor": 0
      },
      "text/plain": [
       "Button(description='Toggle Pandas/Lux', layout=Layout(top='5px', width='140px'), style=ButtonStyle())"
      ]
     },
     "metadata": {},
     "output_type": "display_data"
    },
    {
     "data": {
      "application/vnd.jupyter.widget-view+json": {
       "model_id": "281f984009ea488e8d24d9af315505d3",
       "version_major": 2,
       "version_minor": 0
      },
      "text/plain": [
       "Output()"
      ]
     },
     "metadata": {},
     "output_type": "display_data"
    }
   ],
   "source": [
    "df.set_intent([\"Outcome\"])\n",
    "df"
   ]
  },
  {
   "cell_type": "markdown",
   "id": "9168c506",
   "metadata": {},
   "source": [
    "### LUX Exporting Visualization"
   ]
  },
  {
   "cell_type": "code",
   "execution_count": 17,
   "id": "6af0b261",
   "metadata": {},
   "outputs": [
    {
     "data": {
      "application/vnd.jupyter.widget-view+json": {
       "model_id": "2f0fcc4187794507b44b56a712e5f5c8",
       "version_major": 2,
       "version_minor": 0
      },
      "text/plain": [
       "Button(description='Toggle Pandas/Lux', layout=Layout(top='5px', width='140px'), style=ButtonStyle())"
      ]
     },
     "metadata": {},
     "output_type": "display_data"
    },
    {
     "data": {
      "application/vnd.jupyter.widget-view+json": {
       "model_id": "0621cf8550594b13bb84ac91fbd961d8",
       "version_major": 2,
       "version_minor": 0
      },
      "text/plain": [
       "Output()"
      ]
     },
     "metadata": {},
     "output_type": "display_data"
    }
   ],
   "source": [
    "df.set_intent([\"BloodPressure\"])\n",
    "df"
   ]
  },
  {
   "cell_type": "code",
   "execution_count": 18,
   "id": "3d107057",
   "metadata": {},
   "outputs": [],
   "source": [
    "vis=df.exported[0]"
   ]
  },
  {
   "cell_type": "code",
   "execution_count": 19,
   "id": "708dbfa8",
   "metadata": {},
   "outputs": [
    {
     "data": {
      "application/vnd.jupyter.widget-view+json": {
       "model_id": "a15521f66b934261adeed5955c4b7544",
       "version_major": 2,
       "version_minor": 0
      },
      "text/plain": [
       "LuxWidget(current_vis={'config': {'view': {'continuousWidth': 400, 'continuousHeight': 300}, 'axis': {'labelCo…"
      ]
     },
     "metadata": {},
     "output_type": "display_data"
    }
   ],
   "source": [
    "vis"
   ]
  },
  {
   "cell_type": "code",
   "execution_count": null,
   "id": "fdfc8beb",
   "metadata": {},
   "outputs": [],
   "source": []
  }
 ],
 "metadata": {
  "kernelspec": {
   "display_name": "Python 3 (ipykernel)",
   "language": "python",
   "name": "python3"
  },
  "language_info": {
   "codemirror_mode": {
    "name": "ipython",
    "version": 3
   },
   "file_extension": ".py",
   "mimetype": "text/x-python",
   "name": "python",
   "nbconvert_exporter": "python",
   "pygments_lexer": "ipython3",
   "version": "3.9.7"
  }
 },
 "nbformat": 4,
 "nbformat_minor": 5
}
