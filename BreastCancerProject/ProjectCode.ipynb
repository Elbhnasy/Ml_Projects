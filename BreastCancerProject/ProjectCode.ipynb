{
 "cells": [
  {
   "cell_type": "markdown",
   "id": "691ab5f2",
   "metadata": {},
   "source": [
    "# <center><font size=6, color=\"#7B242F\"><u> Breast Cancer Project Using Adaboost </u></font>"
   ]
  },
  {
   "cell_type": "code",
   "execution_count": 1,
   "id": "1ee537a5",
   "metadata": {},
   "outputs": [],
   "source": [
    "## ======================================================================\n",
    "#            Importing the necessary modules and tools\n",
    "## ======================================================================\n",
    "\n",
    "import pandas as pd; import numpy as np \n",
    "import matplotlib.pyplot as plt\n",
    "import seaborn as sns\n",
    "\n",
    "# Import the Classifiers, splitting function\n",
    "from sklearn.tree import DecisionTreeClassifier\n",
    "from sklearn.ensemble import AdaBoostClassifier\n",
    "from sklearn.model_selection import train_test_split\n",
    "\n",
    "from sklearn.model_selection import GridSearchCV\n",
    "\n",
    "\n",
    "# from sklearn.metrics import necessary metrics\n",
    "from sklearn.metrics import roc_auc_score, roc_curve, auc\n",
    "from sklearn.model_selection import train_test_split\n",
    "\n",
    "\n",
    "# Set notebook options\n",
    "# --------------------\n",
    "pd.options.display.float_format = '{:,.3f}'.format\n",
    "%matplotlib inline"
   ]
  },
  {
   "cell_type": "code",
   "execution_count": 2,
   "id": "0dbd94b5",
   "metadata": {},
   "outputs": [
    {
     "name": "stdout",
     "output_type": "stream",
     "text": [
      "**************************************************\n",
      "<class 'pandas.core.frame.DataFrame'>\n",
      "RangeIndex: 569 entries, 0 to 568\n",
      "Data columns (total 32 columns):\n",
      " #   Column                   Non-Null Count  Dtype  \n",
      "---  ------                   --------------  -----  \n",
      " 0   diagnosis                569 non-null    object \n",
      " 1   id                       569 non-null    int64  \n",
      " 2   radius_mean              569 non-null    float64\n",
      " 3   texture_mean             569 non-null    float64\n",
      " 4   perimeter_mean           569 non-null    float64\n",
      " 5   area_mean                569 non-null    float64\n",
      " 6   smoothness_mean          569 non-null    float64\n",
      " 7   compactness_mean         569 non-null    float64\n",
      " 8   concavity_mean           569 non-null    float64\n",
      " 9   concave points_mean      569 non-null    float64\n",
      " 10  symmetry_mean            569 non-null    float64\n",
      " 11  fractal_dimension_mean   569 non-null    float64\n",
      " 12  radius_se                569 non-null    float64\n",
      " 13  texture_se               569 non-null    float64\n",
      " 14  perimeter_se             569 non-null    float64\n",
      " 15  area_se                  569 non-null    float64\n",
      " 16  smoothness_se            569 non-null    float64\n",
      " 17  compactness_se           569 non-null    float64\n",
      " 18  concavity_se             569 non-null    float64\n",
      " 19  concave points_se        569 non-null    float64\n",
      " 20  symmetry_se              569 non-null    float64\n",
      " 21  fractal_dimension_se     569 non-null    float64\n",
      " 22  radius_worst             569 non-null    float64\n",
      " 23  texture_worst            569 non-null    float64\n",
      " 24  perimeter_worst          569 non-null    float64\n",
      " 25  area_worst               569 non-null    float64\n",
      " 26  smoothness_worst         569 non-null    float64\n",
      " 27  compactness_worst        569 non-null    float64\n",
      " 28  concavity_worst          569 non-null    float64\n",
      " 29  concave points_worst     569 non-null    float64\n",
      " 30  symmetry_worst           569 non-null    float64\n",
      " 31  fractal_dimension_worst  569 non-null    float64\n",
      "dtypes: float64(30), int64(1), object(1)\n",
      "memory usage: 142.4+ KB\n",
      "**************************************************\n"
     ]
    },
    {
     "data": {
      "text/html": [
       "<div>\n",
       "<style scoped>\n",
       "    .dataframe tbody tr th:only-of-type {\n",
       "        vertical-align: middle;\n",
       "    }\n",
       "\n",
       "    .dataframe tbody tr th {\n",
       "        vertical-align: top;\n",
       "    }\n",
       "\n",
       "    .dataframe thead th {\n",
       "        text-align: right;\n",
       "    }\n",
       "</style>\n",
       "<table border=\"1\" class=\"dataframe\">\n",
       "  <thead>\n",
       "    <tr style=\"text-align: right;\">\n",
       "      <th></th>\n",
       "      <th>diagnosis</th>\n",
       "      <th>id</th>\n",
       "      <th>radius_mean</th>\n",
       "      <th>texture_mean</th>\n",
       "      <th>perimeter_mean</th>\n",
       "      <th>area_mean</th>\n",
       "      <th>smoothness_mean</th>\n",
       "      <th>compactness_mean</th>\n",
       "      <th>concavity_mean</th>\n",
       "      <th>concave points_mean</th>\n",
       "      <th>...</th>\n",
       "      <th>radius_worst</th>\n",
       "      <th>texture_worst</th>\n",
       "      <th>perimeter_worst</th>\n",
       "      <th>area_worst</th>\n",
       "      <th>smoothness_worst</th>\n",
       "      <th>compactness_worst</th>\n",
       "      <th>concavity_worst</th>\n",
       "      <th>concave points_worst</th>\n",
       "      <th>symmetry_worst</th>\n",
       "      <th>fractal_dimension_worst</th>\n",
       "    </tr>\n",
       "  </thead>\n",
       "  <tbody>\n",
       "    <tr>\n",
       "      <th>0</th>\n",
       "      <td>M</td>\n",
       "      <td>842302</td>\n",
       "      <td>17.990</td>\n",
       "      <td>10.380</td>\n",
       "      <td>122.800</td>\n",
       "      <td>1,001.000</td>\n",
       "      <td>0.118</td>\n",
       "      <td>0.278</td>\n",
       "      <td>0.300</td>\n",
       "      <td>0.147</td>\n",
       "      <td>...</td>\n",
       "      <td>25.380</td>\n",
       "      <td>17.330</td>\n",
       "      <td>184.600</td>\n",
       "      <td>2,019.000</td>\n",
       "      <td>0.162</td>\n",
       "      <td>0.666</td>\n",
       "      <td>0.712</td>\n",
       "      <td>0.265</td>\n",
       "      <td>0.460</td>\n",
       "      <td>0.119</td>\n",
       "    </tr>\n",
       "    <tr>\n",
       "      <th>1</th>\n",
       "      <td>M</td>\n",
       "      <td>842517</td>\n",
       "      <td>20.570</td>\n",
       "      <td>17.770</td>\n",
       "      <td>132.900</td>\n",
       "      <td>1,326.000</td>\n",
       "      <td>0.085</td>\n",
       "      <td>0.079</td>\n",
       "      <td>0.087</td>\n",
       "      <td>0.070</td>\n",
       "      <td>...</td>\n",
       "      <td>24.990</td>\n",
       "      <td>23.410</td>\n",
       "      <td>158.800</td>\n",
       "      <td>1,956.000</td>\n",
       "      <td>0.124</td>\n",
       "      <td>0.187</td>\n",
       "      <td>0.242</td>\n",
       "      <td>0.186</td>\n",
       "      <td>0.275</td>\n",
       "      <td>0.089</td>\n",
       "    </tr>\n",
       "    <tr>\n",
       "      <th>2</th>\n",
       "      <td>M</td>\n",
       "      <td>84300903</td>\n",
       "      <td>19.690</td>\n",
       "      <td>21.250</td>\n",
       "      <td>130.000</td>\n",
       "      <td>1,203.000</td>\n",
       "      <td>0.110</td>\n",
       "      <td>0.160</td>\n",
       "      <td>0.197</td>\n",
       "      <td>0.128</td>\n",
       "      <td>...</td>\n",
       "      <td>23.570</td>\n",
       "      <td>25.530</td>\n",
       "      <td>152.500</td>\n",
       "      <td>1,709.000</td>\n",
       "      <td>0.144</td>\n",
       "      <td>0.424</td>\n",
       "      <td>0.450</td>\n",
       "      <td>0.243</td>\n",
       "      <td>0.361</td>\n",
       "      <td>0.088</td>\n",
       "    </tr>\n",
       "    <tr>\n",
       "      <th>3</th>\n",
       "      <td>M</td>\n",
       "      <td>84348301</td>\n",
       "      <td>11.420</td>\n",
       "      <td>20.380</td>\n",
       "      <td>77.580</td>\n",
       "      <td>386.100</td>\n",
       "      <td>0.142</td>\n",
       "      <td>0.284</td>\n",
       "      <td>0.241</td>\n",
       "      <td>0.105</td>\n",
       "      <td>...</td>\n",
       "      <td>14.910</td>\n",
       "      <td>26.500</td>\n",
       "      <td>98.870</td>\n",
       "      <td>567.700</td>\n",
       "      <td>0.210</td>\n",
       "      <td>0.866</td>\n",
       "      <td>0.687</td>\n",
       "      <td>0.258</td>\n",
       "      <td>0.664</td>\n",
       "      <td>0.173</td>\n",
       "    </tr>\n",
       "    <tr>\n",
       "      <th>4</th>\n",
       "      <td>M</td>\n",
       "      <td>84358402</td>\n",
       "      <td>20.290</td>\n",
       "      <td>14.340</td>\n",
       "      <td>135.100</td>\n",
       "      <td>1,297.000</td>\n",
       "      <td>0.100</td>\n",
       "      <td>0.133</td>\n",
       "      <td>0.198</td>\n",
       "      <td>0.104</td>\n",
       "      <td>...</td>\n",
       "      <td>22.540</td>\n",
       "      <td>16.670</td>\n",
       "      <td>152.200</td>\n",
       "      <td>1,575.000</td>\n",
       "      <td>0.137</td>\n",
       "      <td>0.205</td>\n",
       "      <td>0.400</td>\n",
       "      <td>0.163</td>\n",
       "      <td>0.236</td>\n",
       "      <td>0.077</td>\n",
       "    </tr>\n",
       "  </tbody>\n",
       "</table>\n",
       "<p>5 rows × 32 columns</p>\n",
       "</div>"
      ],
      "text/plain": [
       "  diagnosis        id  radius_mean  texture_mean  perimeter_mean  area_mean  \\\n",
       "0         M    842302       17.990        10.380         122.800  1,001.000   \n",
       "1         M    842517       20.570        17.770         132.900  1,326.000   \n",
       "2         M  84300903       19.690        21.250         130.000  1,203.000   \n",
       "3         M  84348301       11.420        20.380          77.580    386.100   \n",
       "4         M  84358402       20.290        14.340         135.100  1,297.000   \n",
       "\n",
       "   smoothness_mean  compactness_mean  concavity_mean  concave points_mean  \\\n",
       "0            0.118             0.278           0.300                0.147   \n",
       "1            0.085             0.079           0.087                0.070   \n",
       "2            0.110             0.160           0.197                0.128   \n",
       "3            0.142             0.284           0.241                0.105   \n",
       "4            0.100             0.133           0.198                0.104   \n",
       "\n",
       "   ...  radius_worst  texture_worst  perimeter_worst  area_worst  \\\n",
       "0  ...        25.380         17.330          184.600   2,019.000   \n",
       "1  ...        24.990         23.410          158.800   1,956.000   \n",
       "2  ...        23.570         25.530          152.500   1,709.000   \n",
       "3  ...        14.910         26.500           98.870     567.700   \n",
       "4  ...        22.540         16.670          152.200   1,575.000   \n",
       "\n",
       "   smoothness_worst  compactness_worst  concavity_worst  concave points_worst  \\\n",
       "0             0.162              0.666            0.712                 0.265   \n",
       "1             0.124              0.187            0.242                 0.186   \n",
       "2             0.144              0.424            0.450                 0.243   \n",
       "3             0.210              0.866            0.687                 0.258   \n",
       "4             0.137              0.205            0.400                 0.163   \n",
       "\n",
       "   symmetry_worst  fractal_dimension_worst  \n",
       "0           0.460                    0.119  \n",
       "1           0.275                    0.089  \n",
       "2           0.361                    0.088  \n",
       "3           0.664                    0.173  \n",
       "4           0.236                    0.077  \n",
       "\n",
       "[5 rows x 32 columns]"
      ]
     },
     "execution_count": 2,
     "metadata": {},
     "output_type": "execute_result"
    }
   ],
   "source": [
    "## ===================================================\n",
    "#            Reading and exploring the data\n",
    "## ===================================================\n",
    "data_bc = pd.read_csv('breastcancer.csv')\n",
    "print(\"*\" * 50)\n",
    "data_bc.info()\n",
    "print(\"*\" * 50)\n",
    "data_bc.head()"
   ]
  },
  {
   "cell_type": "code",
   "execution_count": 3,
   "id": "f4b6e236",
   "metadata": {},
   "outputs": [
    {
     "data": {
      "text/plain": [
       "array([1, 0])"
      ]
     },
     "execution_count": 3,
     "metadata": {},
     "output_type": "execute_result"
    }
   ],
   "source": [
    "## ===================================================\n",
    "#.             Data Preprocessing\n",
    "## ===================================================\n",
    "from sklearn.preprocessing import LabelEncoder\n",
    "\n",
    "# Instantiate label encoder\n",
    "# ========================\n",
    "lab_enc = LabelEncoder()\n",
    "\n",
    "# Fit label encoder and return encoded labels\n",
    "# -------------------------------------------\n",
    "data_bc['diagnosis'] = lab_enc.fit_transform(data_bc['diagnosis'])\n",
    "\n",
    "# Results in appending a new column to df\n",
    "# ---------------------------------------\n",
    "data_bc['diagnosis'].unique()"
   ]
  },
  {
   "cell_type": "code",
   "execution_count": 4,
   "id": "70cfcb91",
   "metadata": {},
   "outputs": [
    {
     "data": {
      "text/plain": [
       "diagnosis                  0\n",
       "id                         0\n",
       "radius_mean                0\n",
       "texture_mean               0\n",
       "perimeter_mean             0\n",
       "area_mean                  0\n",
       "smoothness_mean            0\n",
       "compactness_mean           0\n",
       "concavity_mean             0\n",
       "concave points_mean        0\n",
       "symmetry_mean              0\n",
       "fractal_dimension_mean     0\n",
       "radius_se                  0\n",
       "texture_se                 0\n",
       "perimeter_se               0\n",
       "area_se                    0\n",
       "smoothness_se              0\n",
       "compactness_se             0\n",
       "concavity_se               0\n",
       "concave points_se          0\n",
       "symmetry_se                0\n",
       "fractal_dimension_se       0\n",
       "radius_worst               0\n",
       "texture_worst              0\n",
       "perimeter_worst            0\n",
       "area_worst                 0\n",
       "smoothness_worst           0\n",
       "compactness_worst          0\n",
       "concavity_worst            0\n",
       "concave points_worst       0\n",
       "symmetry_worst             0\n",
       "fractal_dimension_worst    0\n",
       "dtype: int64"
      ]
     },
     "execution_count": 4,
     "metadata": {},
     "output_type": "execute_result"
    }
   ],
   "source": [
    "# checkking missing value\n",
    "# ----------------------\n",
    "data_bc.isnull().sum()"
   ]
  },
  {
   "cell_type": "code",
   "execution_count": 5,
   "id": "50f0f369",
   "metadata": {},
   "outputs": [],
   "source": [
    "# create features and response variables\n",
    "# --------------------------------\n",
    "\n",
    "# Features\n",
    "# --------\n",
    "X = data_bc.iloc[:,2:31]  \n",
    "\n",
    "# Target\n",
    "# ------\n",
    "y = data_bc.iloc[:,0] \n",
    "\n",
    "# Create train and test sets\n",
    "# --------------------------\n",
    "X_train, X_test, y_train, y_test = train_test_split(X, y, \n",
    "                                                    test_size=0.30,\n",
    "                                                    random_state=1, \n",
    "                                                    stratify= y)"
   ]
  },
  {
   "cell_type": "code",
   "execution_count": 6,
   "id": "d2652ea0",
   "metadata": {},
   "outputs": [
    {
     "name": "stdout",
     "output_type": "stream",
     "text": [
      "The X_train shape is:  (398, 29)\n",
      "The y_train shape is:  (398,)\n",
      "The X_test shape is :  (171, 29)\n",
      "The y_train shape is:  (171,)\n"
     ]
    }
   ],
   "source": [
    "# Check the after splitting\n",
    "# -------------------------\n",
    "print(\"The X_train shape is: \", X_train.shape)\n",
    "print(\"The y_train shape is: \", y_train.shape)\n",
    "print(\"The X_test shape is : \", X_test.shape)\n",
    "print(\"The y_train shape is: \",y_test.shape)"
   ]
  },
  {
   "cell_type": "code",
   "execution_count": 7,
   "id": "6f5ee522",
   "metadata": {},
   "outputs": [
    {
     "name": "stdout",
     "output_type": "stream",
     "text": [
      "****************************************\n",
      "ROC AUC score: 0.991\n",
      "****************************************\n"
     ]
    }
   ],
   "source": [
    "## ==================================================\n",
    "#.      Fitting Adaboost Algorithm\n",
    "## ==================================================\n",
    "\n",
    "# Instantiate dtree\n",
    "# ------------------\n",
    "dtree = DecisionTreeClassifier(max_depth=3,\n",
    "                              random_state=1)\n",
    "\n",
    "# Instantiate ad_clf\n",
    "# ------------------\n",
    "ada_clf = AdaBoostClassifier(base_estimator=dtree,\n",
    "                             n_estimators=180, \n",
    "                             random_state=1)\n",
    "\n",
    "# Fit ada_clf to the training set\n",
    "# -----------------------------\n",
    "ada_clf.fit(X_train, y_train)\n",
    "\n",
    "# Compute the probabilities of obtaining the positive class\n",
    "# ---------------------------------------------------------\n",
    "y_pred_proba = ada_clf.predict_proba(X_test)[:, 1]\n",
    "\n",
    "\n",
    "# Evaluate test-set roc_auc_score\n",
    "# --------------------------------\n",
    "ada_roc_auc = roc_auc_score(y_test, y_pred_proba)\n",
    "\n",
    "# Print roc_auc_score\n",
    "#--------------------\n",
    "print(\"*\"*40)\n",
    "print('ROC AUC score: {:.3f}'.format(ada_roc_auc))\n",
    "print(\"*\"*40)"
   ]
  },
  {
   "cell_type": "markdown",
   "id": "e9aa8844",
   "metadata": {},
   "source": [
    "## Comparing the Adaboost with Other Algorithms"
   ]
  },
  {
   "cell_type": "code",
   "execution_count": 8,
   "id": "e1aea58f",
   "metadata": {},
   "outputs": [
    {
     "name": "stdout",
     "output_type": "stream",
     "text": [
      "         The Results of the decision Tree         \n",
      "**************************************************\n",
      "The accuracy of the decision tree is:0.9240 \n",
      "**************************************************\n",
      "The Decision Tree AUC Score:0.9145\n",
      "**************************************************\n"
     ]
    }
   ],
   "source": [
    "## ==================================================\n",
    "#.      Fitting a Single Decision Tree \n",
    "## ==================================================\n",
    "\n",
    "dtree = DecisionTreeClassifier(max_depth=3, random_state=1)\n",
    "dtree.fit(X_train, y_train)\n",
    "\n",
    "# Decision tree accuracy accuracy\n",
    "# -------------------------------\n",
    "\n",
    "dtree_acc = dtree.score(X_test,y_test)\n",
    "\n",
    "print('The Results of the decision Tree'.center(50))\n",
    "print(\"*\"*50)\n",
    "print('The accuracy of the decision tree is:{:.4f} '.format(dtree_acc))\n",
    "print(\"*\"*50)\n",
    "# AUC score\n",
    "# ---------\n",
    "y_pred_dtree = dtree.predict_proba(X_test)\n",
    "\n",
    "fpr_dtree, tpr_dtree, thresholds = roc_curve(y_test, y_pred_dtree[:,1])\n",
    "auc_dtree = auc(fpr_dtree, tpr_dtree)\n",
    "\n",
    "\n",
    "print ('The Decision Tree AUC Score:{:.4f}'.format(auc_dtree))\n",
    "print(\"*\"*50)"
   ]
  },
  {
   "cell_type": "code",
   "execution_count": 9,
   "id": "2c433557",
   "metadata": {},
   "outputs": [
    {
     "name": "stdout",
     "output_type": "stream",
     "text": [
      "**************************************************\n",
      "The mean accuracy is: 0.9240\n",
      "**************************************************\n",
      "the AUC Score is: 0.9775 \n",
      "**************************************************\n"
     ]
    }
   ],
   "source": [
    "## ======================================================\n",
    "#       Training Adaboost with a predefined learning rate\n",
    "## =======================================================\n",
    "\n",
    "# Set Learning rate to 0.1 then fit adaboost \n",
    "# ------------------------------------------\n",
    "ada_lr = AdaBoostClassifier(n_estimators=100,\n",
    "                              base_estimator=dtree, \n",
    "                              learning_rate=0.1, \n",
    "                              random_state=1)\n",
    "ada_lr.fit(X_train, y_train)\n",
    "\n",
    "# Print the accuracy\n",
    "# -------------------\n",
    "ada_lr_acc = ada_lr.score(X_test,y_test)\n",
    "\n",
    "print(\"*\"*50)\n",
    "print('The mean accuracy is: {:.4f}'.format(ada_lr_acc))\n",
    "print(\"*\"*50)\n",
    "\n",
    "# The AUC Score\n",
    "# -------------\n",
    "y_pred_adaboost = ada_lr.predict_proba(X_test)\n",
    "\n",
    "fpr_ab, tpr_ab, thresholds = roc_curve(y_test, y_pred_adaboost[:,1])\n",
    "auc_adaboost = auc(fpr_ab, tpr_ab)\n",
    "print ('the AUC Score is: {:.4f} '.format(auc_adaboost))\n",
    "print(\"*\"*50)"
   ]
  },
  {
   "cell_type": "markdown",
   "id": "7941725d",
   "metadata": {},
   "source": [
    "# <center><font size=6, color=\"#FF242F\"><u> AdaBoost Hyperparameter Tuning </u></font>"
   ]
  },
  {
   "cell_type": "code",
   "execution_count": 10,
   "id": "b66fe173",
   "metadata": {},
   "outputs": [
    {
     "name": "stdout",
     "output_type": "stream",
     "text": [
      "Fitting 5 folds for each of 4 candidates, totalling 20 fits\n"
     ]
    }
   ],
   "source": [
    "## ========================================================\n",
    "#.     Adaboost hyperparameter tuning with decision tree as\n",
    "#.     a base learner using GridSeachCV Algorithm\n",
    "## ========================================================\n",
    "\n",
    "# Create the estimator with dtree\n",
    "# -------------------------------\n",
    "ada_tree = AdaBoostClassifier(\n",
    "    base_estimator = DecisionTreeClassifier(\n",
    "                        max_depth=3,                                    \n",
    "                        random_state=1),             \n",
    "                        random_state=1)\n",
    "\n",
    "ada_param_grid = {'n_estimators': [10, 100],\n",
    "                 'learning_rate': [0.01, 1]}\n",
    "\n",
    "ada_gs = GridSearchCV(estimator=ada_tree ,\n",
    "                       param_grid=ada_param_grid,\n",
    "                       #cv = 10,\n",
    "                       verbose = 1)\n",
    "\n",
    "# Fitting the grid\n",
    "# ---------------\n",
    "ada_gs_model = ada_gs.fit(X_train, y_train)"
   ]
  },
  {
   "cell_type": "code",
   "execution_count": 11,
   "id": "3a6efbf6",
   "metadata": {},
   "outputs": [
    {
     "name": "stdout",
     "output_type": "stream",
     "text": [
      "****************************************\n",
      "learning_rate   : 1\n",
      "n_estimators    : 100\n",
      "****************************************\n",
      "The best score: 0.9774\n",
      "****************************************\n"
     ]
    }
   ],
   "source": [
    "print(\"*\"*40)\n",
    "\n",
    "for hyper_name, val in ada_gs_model.best_params_.items():\n",
    "    print(\"{:15s} : {}\".format(hyper_name, val))\n",
    "print(\"*\"*40)\n",
    "print(\"The best score: {:.4f}\".format(ada_gs_model.best_score_))\n",
    "print(\"*\"*40)"
   ]
  },
  {
   "cell_type": "code",
   "execution_count": 12,
   "id": "89455767",
   "metadata": {},
   "outputs": [
    {
     "name": "stdout",
     "output_type": "stream",
     "text": [
      "****************************************\n",
      "The Tuned model accuracy is: 0.9415\n",
      "****************************************\n",
      "The Tuned Adaboost AUC Score is: 0.9901\n",
      "****************************************\n"
     ]
    }
   ],
   "source": [
    "## =======================================================\n",
    "#      Fitting the tuned adaboost\n",
    "## =======================================================\n",
    "\n",
    "dtree = DecisionTreeClassifier(max_depth=3, random_state=1)\n",
    "#dtree.fit(X_train, Y_train)\n",
    "\n",
    "# Tuning the hyperparams\n",
    "ada_tuned = AdaBoostClassifier(\n",
    "           base_estimator=DecisionTreeClassifier(max_depth=3, \n",
    "                                          random_state=1),                          \n",
    "           n_estimators=100,                                                                              \n",
    "           learning_rate=1,                                   \n",
    "           random_state=1)\n",
    "\n",
    "ada_tuned.fit(X_train, y_train)\n",
    "\n",
    "# The accuracy of tuned model\n",
    "# ---------------------------\n",
    "print(\"*\"*40)\n",
    "print('The Tuned model accuracy is: {:.4}'.format(\n",
    "    (ada_tuned.score(X_test,y_test)))\n",
    "     )\n",
    "print(\"*\"*40)\n",
    "\n",
    "# The Tuned model AUC score\n",
    "# -------------------------\n",
    "y_pred_ada_tuned = ada_tuned.predict_proba(X_test)\n",
    "fpr_ab_tuned, tpr_ab_tuned, thresholds = roc_curve(y_test, y_pred_ada_tuned[:,1])\n",
    "auc_adaboost_tune = auc(fpr_ab_tuned, tpr_ab_tuned)\n",
    "\n",
    "print ('The Tuned Adaboost AUC Score is: {:.4f}'.format(auc_adaboost_tune))\n",
    "print(\"*\"*40)"
   ]
  },
  {
   "cell_type": "markdown",
   "id": "f42c6ae0",
   "metadata": {},
   "source": [
    "## <center><font size=6, color=\"#7B249F\"><u> Adaboost with SVM Classifier </u> </font>"
   ]
  },
  {
   "cell_type": "code",
   "execution_count": 13,
   "id": "97c44d13",
   "metadata": {},
   "outputs": [
    {
     "data": {
      "text/html": [
       "<style>#sk-container-id-1 {color: black;background-color: white;}#sk-container-id-1 pre{padding: 0;}#sk-container-id-1 div.sk-toggleable {background-color: white;}#sk-container-id-1 label.sk-toggleable__label {cursor: pointer;display: block;width: 100%;margin-bottom: 0;padding: 0.3em;box-sizing: border-box;text-align: center;}#sk-container-id-1 label.sk-toggleable__label-arrow:before {content: \"▸\";float: left;margin-right: 0.25em;color: #696969;}#sk-container-id-1 label.sk-toggleable__label-arrow:hover:before {color: black;}#sk-container-id-1 div.sk-estimator:hover label.sk-toggleable__label-arrow:before {color: black;}#sk-container-id-1 div.sk-toggleable__content {max-height: 0;max-width: 0;overflow: hidden;text-align: left;background-color: #f0f8ff;}#sk-container-id-1 div.sk-toggleable__content pre {margin: 0.2em;color: black;border-radius: 0.25em;background-color: #f0f8ff;}#sk-container-id-1 input.sk-toggleable__control:checked~div.sk-toggleable__content {max-height: 200px;max-width: 100%;overflow: auto;}#sk-container-id-1 input.sk-toggleable__control:checked~label.sk-toggleable__label-arrow:before {content: \"▾\";}#sk-container-id-1 div.sk-estimator input.sk-toggleable__control:checked~label.sk-toggleable__label {background-color: #d4ebff;}#sk-container-id-1 div.sk-label input.sk-toggleable__control:checked~label.sk-toggleable__label {background-color: #d4ebff;}#sk-container-id-1 input.sk-hidden--visually {border: 0;clip: rect(1px 1px 1px 1px);clip: rect(1px, 1px, 1px, 1px);height: 1px;margin: -1px;overflow: hidden;padding: 0;position: absolute;width: 1px;}#sk-container-id-1 div.sk-estimator {font-family: monospace;background-color: #f0f8ff;border: 1px dotted black;border-radius: 0.25em;box-sizing: border-box;margin-bottom: 0.5em;}#sk-container-id-1 div.sk-estimator:hover {background-color: #d4ebff;}#sk-container-id-1 div.sk-parallel-item::after {content: \"\";width: 100%;border-bottom: 1px solid gray;flex-grow: 1;}#sk-container-id-1 div.sk-label:hover label.sk-toggleable__label {background-color: #d4ebff;}#sk-container-id-1 div.sk-serial::before {content: \"\";position: absolute;border-left: 1px solid gray;box-sizing: border-box;top: 0;bottom: 0;left: 50%;z-index: 0;}#sk-container-id-1 div.sk-serial {display: flex;flex-direction: column;align-items: center;background-color: white;padding-right: 0.2em;padding-left: 0.2em;position: relative;}#sk-container-id-1 div.sk-item {position: relative;z-index: 1;}#sk-container-id-1 div.sk-parallel {display: flex;align-items: stretch;justify-content: center;background-color: white;position: relative;}#sk-container-id-1 div.sk-item::before, #sk-container-id-1 div.sk-parallel-item::before {content: \"\";position: absolute;border-left: 1px solid gray;box-sizing: border-box;top: 0;bottom: 0;left: 50%;z-index: -1;}#sk-container-id-1 div.sk-parallel-item {display: flex;flex-direction: column;z-index: 1;position: relative;background-color: white;}#sk-container-id-1 div.sk-parallel-item:first-child::after {align-self: flex-end;width: 50%;}#sk-container-id-1 div.sk-parallel-item:last-child::after {align-self: flex-start;width: 50%;}#sk-container-id-1 div.sk-parallel-item:only-child::after {width: 0;}#sk-container-id-1 div.sk-dashed-wrapped {border: 1px dashed gray;margin: 0 0.4em 0.5em 0.4em;box-sizing: border-box;padding-bottom: 0.4em;background-color: white;}#sk-container-id-1 div.sk-label label {font-family: monospace;font-weight: bold;display: inline-block;line-height: 1.2em;}#sk-container-id-1 div.sk-label-container {text-align: center;}#sk-container-id-1 div.sk-container {/* jupyter's `normalize.less` sets `[hidden] { display: none; }` but bootstrap.min.css set `[hidden] { display: none !important; }` so we also need the `!important` here to be able to override the default hidden behavior on the sphinx rendered scikit-learn.org. See: https://github.com/scikit-learn/scikit-learn/issues/21755 */display: inline-block !important;position: relative;}#sk-container-id-1 div.sk-text-repr-fallback {display: none;}</style><div id=\"sk-container-id-1\" class=\"sk-top-container\"><div class=\"sk-text-repr-fallback\"><pre>AdaBoostClassifier(base_estimator=SVC(C=100, probability=True), learning_rate=1,\n",
       "                   n_estimators=100, random_state=1)</pre><b>In a Jupyter environment, please rerun this cell to show the HTML representation or trust the notebook. <br />On GitHub, the HTML representation is unable to render, please try loading this page with nbviewer.org.</b></div><div class=\"sk-container\" hidden><div class=\"sk-item sk-dashed-wrapped\"><div class=\"sk-label-container\"><div class=\"sk-label sk-toggleable\"><input class=\"sk-toggleable__control sk-hidden--visually\" id=\"sk-estimator-id-1\" type=\"checkbox\" ><label for=\"sk-estimator-id-1\" class=\"sk-toggleable__label sk-toggleable__label-arrow\">AdaBoostClassifier</label><div class=\"sk-toggleable__content\"><pre>AdaBoostClassifier(base_estimator=SVC(C=100, probability=True), learning_rate=1,\n",
       "                   n_estimators=100, random_state=1)</pre></div></div></div><div class=\"sk-parallel\"><div class=\"sk-parallel-item\"><div class=\"sk-item\"><div class=\"sk-label-container\"><div class=\"sk-label sk-toggleable\"><input class=\"sk-toggleable__control sk-hidden--visually\" id=\"sk-estimator-id-2\" type=\"checkbox\" ><label for=\"sk-estimator-id-2\" class=\"sk-toggleable__label sk-toggleable__label-arrow\">base_estimator: SVC</label><div class=\"sk-toggleable__content\"><pre>SVC(C=100, probability=True)</pre></div></div></div><div class=\"sk-serial\"><div class=\"sk-item\"><div class=\"sk-estimator sk-toggleable\"><input class=\"sk-toggleable__control sk-hidden--visually\" id=\"sk-estimator-id-3\" type=\"checkbox\" ><label for=\"sk-estimator-id-3\" class=\"sk-toggleable__label sk-toggleable__label-arrow\">SVC</label><div class=\"sk-toggleable__content\"><pre>SVC(C=100, probability=True)</pre></div></div></div></div></div></div></div></div></div></div>"
      ],
      "text/plain": [
       "AdaBoostClassifier(base_estimator=SVC(C=100, probability=True), learning_rate=1,\n",
       "                   n_estimators=100, random_state=1)"
      ]
     },
     "execution_count": 13,
     "metadata": {},
     "output_type": "execute_result"
    }
   ],
   "source": [
    "## =======================================================================\n",
    "#     Training AdaBoost Algorithm with SVM Classifier as a base estimator\n",
    "## =======================================================================\n",
    "\n",
    "from sklearn.svm import SVC\n",
    "\n",
    "ada_svc_rbf =AdaBoostClassifier(n_estimators=100,\n",
    "                                          base_estimator =SVC(C=100,\n",
    "                                                              probability=True,\n",
    "                                                              kernel='rbf'),\n",
    "                                          learning_rate=1,\n",
    "                                          random_state=1)\n",
    "\n",
    "# Fitting the model\n",
    "# -------------------\n",
    "ada_svc_rbf.fit(X_train, y_train)"
   ]
  },
  {
   "cell_type": "code",
   "execution_count": 14,
   "id": "60cb6582",
   "metadata": {},
   "outputs": [
    {
     "name": "stdout",
     "output_type": "stream",
     "text": [
      "****************************************\n",
      "The adaboost with svc accuracy is:0.6257\n",
      "****************************************\n",
      "The adaboost with SVC AUC score: 0.9790\n",
      "****************************************\n"
     ]
    }
   ],
   "source": [
    "# The Accuracy of adaboost with svc\n",
    "# ----------------------------------\n",
    "print(\"*\"*40)\n",
    "print('The adaboost with svc accuracy is:{:.4f}'.format(\n",
    "   ada_svc_rbf.score(X_test,y_test))\n",
    "     ) \n",
    "print(\"*\"*40)\n",
    "\n",
    "# The adaboost with SVC AUC score\n",
    "# -------------------------------\n",
    "y_pred_svc_rbf = ada_svc_rbf.predict_proba(X_test)\n",
    "fpr_svc_rbf, tpr_svc_rbf, thresholds = roc_curve(y_test, y_pred_svc_rbf[:,1])\n",
    "auc_svc_rbf = auc(fpr_svc_rbf, tpr_svc_rbf)\n",
    "\n",
    "print ('The adaboost with SVC AUC score: {:.4f}'.format(auc_svc_rbf))\n",
    "print(\"*\"*40)"
   ]
  },
  {
   "cell_type": "code",
   "execution_count": 15,
   "id": "fd0b99b3",
   "metadata": {},
   "outputs": [
    {
     "data": {
      "text/html": [
       "<style>#sk-container-id-2 {color: black;background-color: white;}#sk-container-id-2 pre{padding: 0;}#sk-container-id-2 div.sk-toggleable {background-color: white;}#sk-container-id-2 label.sk-toggleable__label {cursor: pointer;display: block;width: 100%;margin-bottom: 0;padding: 0.3em;box-sizing: border-box;text-align: center;}#sk-container-id-2 label.sk-toggleable__label-arrow:before {content: \"▸\";float: left;margin-right: 0.25em;color: #696969;}#sk-container-id-2 label.sk-toggleable__label-arrow:hover:before {color: black;}#sk-container-id-2 div.sk-estimator:hover label.sk-toggleable__label-arrow:before {color: black;}#sk-container-id-2 div.sk-toggleable__content {max-height: 0;max-width: 0;overflow: hidden;text-align: left;background-color: #f0f8ff;}#sk-container-id-2 div.sk-toggleable__content pre {margin: 0.2em;color: black;border-radius: 0.25em;background-color: #f0f8ff;}#sk-container-id-2 input.sk-toggleable__control:checked~div.sk-toggleable__content {max-height: 200px;max-width: 100%;overflow: auto;}#sk-container-id-2 input.sk-toggleable__control:checked~label.sk-toggleable__label-arrow:before {content: \"▾\";}#sk-container-id-2 div.sk-estimator input.sk-toggleable__control:checked~label.sk-toggleable__label {background-color: #d4ebff;}#sk-container-id-2 div.sk-label input.sk-toggleable__control:checked~label.sk-toggleable__label {background-color: #d4ebff;}#sk-container-id-2 input.sk-hidden--visually {border: 0;clip: rect(1px 1px 1px 1px);clip: rect(1px, 1px, 1px, 1px);height: 1px;margin: -1px;overflow: hidden;padding: 0;position: absolute;width: 1px;}#sk-container-id-2 div.sk-estimator {font-family: monospace;background-color: #f0f8ff;border: 1px dotted black;border-radius: 0.25em;box-sizing: border-box;margin-bottom: 0.5em;}#sk-container-id-2 div.sk-estimator:hover {background-color: #d4ebff;}#sk-container-id-2 div.sk-parallel-item::after {content: \"\";width: 100%;border-bottom: 1px solid gray;flex-grow: 1;}#sk-container-id-2 div.sk-label:hover label.sk-toggleable__label {background-color: #d4ebff;}#sk-container-id-2 div.sk-serial::before {content: \"\";position: absolute;border-left: 1px solid gray;box-sizing: border-box;top: 0;bottom: 0;left: 50%;z-index: 0;}#sk-container-id-2 div.sk-serial {display: flex;flex-direction: column;align-items: center;background-color: white;padding-right: 0.2em;padding-left: 0.2em;position: relative;}#sk-container-id-2 div.sk-item {position: relative;z-index: 1;}#sk-container-id-2 div.sk-parallel {display: flex;align-items: stretch;justify-content: center;background-color: white;position: relative;}#sk-container-id-2 div.sk-item::before, #sk-container-id-2 div.sk-parallel-item::before {content: \"\";position: absolute;border-left: 1px solid gray;box-sizing: border-box;top: 0;bottom: 0;left: 50%;z-index: -1;}#sk-container-id-2 div.sk-parallel-item {display: flex;flex-direction: column;z-index: 1;position: relative;background-color: white;}#sk-container-id-2 div.sk-parallel-item:first-child::after {align-self: flex-end;width: 50%;}#sk-container-id-2 div.sk-parallel-item:last-child::after {align-self: flex-start;width: 50%;}#sk-container-id-2 div.sk-parallel-item:only-child::after {width: 0;}#sk-container-id-2 div.sk-dashed-wrapped {border: 1px dashed gray;margin: 0 0.4em 0.5em 0.4em;box-sizing: border-box;padding-bottom: 0.4em;background-color: white;}#sk-container-id-2 div.sk-label label {font-family: monospace;font-weight: bold;display: inline-block;line-height: 1.2em;}#sk-container-id-2 div.sk-label-container {text-align: center;}#sk-container-id-2 div.sk-container {/* jupyter's `normalize.less` sets `[hidden] { display: none; }` but bootstrap.min.css set `[hidden] { display: none !important; }` so we also need the `!important` here to be able to override the default hidden behavior on the sphinx rendered scikit-learn.org. See: https://github.com/scikit-learn/scikit-learn/issues/21755 */display: inline-block !important;position: relative;}#sk-container-id-2 div.sk-text-repr-fallback {display: none;}</style><div id=\"sk-container-id-2\" class=\"sk-top-container\"><div class=\"sk-text-repr-fallback\"><pre>AdaBoostClassifier(base_estimator=SVC(C=100, kernel=&#x27;linear&#x27;, probability=True),\n",
       "                   learning_rate=1, n_estimators=100, random_state=1)</pre><b>In a Jupyter environment, please rerun this cell to show the HTML representation or trust the notebook. <br />On GitHub, the HTML representation is unable to render, please try loading this page with nbviewer.org.</b></div><div class=\"sk-container\" hidden><div class=\"sk-item sk-dashed-wrapped\"><div class=\"sk-label-container\"><div class=\"sk-label sk-toggleable\"><input class=\"sk-toggleable__control sk-hidden--visually\" id=\"sk-estimator-id-4\" type=\"checkbox\" ><label for=\"sk-estimator-id-4\" class=\"sk-toggleable__label sk-toggleable__label-arrow\">AdaBoostClassifier</label><div class=\"sk-toggleable__content\"><pre>AdaBoostClassifier(base_estimator=SVC(C=100, kernel=&#x27;linear&#x27;, probability=True),\n",
       "                   learning_rate=1, n_estimators=100, random_state=1)</pre></div></div></div><div class=\"sk-parallel\"><div class=\"sk-parallel-item\"><div class=\"sk-item\"><div class=\"sk-label-container\"><div class=\"sk-label sk-toggleable\"><input class=\"sk-toggleable__control sk-hidden--visually\" id=\"sk-estimator-id-5\" type=\"checkbox\" ><label for=\"sk-estimator-id-5\" class=\"sk-toggleable__label sk-toggleable__label-arrow\">base_estimator: SVC</label><div class=\"sk-toggleable__content\"><pre>SVC(C=100, kernel=&#x27;linear&#x27;, probability=True)</pre></div></div></div><div class=\"sk-serial\"><div class=\"sk-item\"><div class=\"sk-estimator sk-toggleable\"><input class=\"sk-toggleable__control sk-hidden--visually\" id=\"sk-estimator-id-6\" type=\"checkbox\" ><label for=\"sk-estimator-id-6\" class=\"sk-toggleable__label sk-toggleable__label-arrow\">SVC</label><div class=\"sk-toggleable__content\"><pre>SVC(C=100, kernel=&#x27;linear&#x27;, probability=True)</pre></div></div></div></div></div></div></div></div></div></div>"
      ],
      "text/plain": [
       "AdaBoostClassifier(base_estimator=SVC(C=100, kernel='linear', probability=True),\n",
       "                   learning_rate=1, n_estimators=100, random_state=1)"
      ]
     },
     "execution_count": 15,
     "metadata": {},
     "output_type": "execute_result"
    }
   ],
   "source": [
    "## =======================================================================\n",
    "#     Training AdaBoost Algorithm with \n",
    "#     Linear SVM Classifier as a base estimator\n",
    "## =======================================================================\n",
    "ada_svc_lin =AdaBoostClassifier(n_estimators=100,\n",
    "                                          base_estimator =SVC(C=100,\n",
    "                                                              probability=True,\n",
    "                                                              kernel='linear'),\n",
    "                                          learning_rate=1,\n",
    "                                          random_state=1)\n",
    "\n",
    "# Fitting the model\n",
    "# -------------------\n",
    "ada_svc_lin.fit(X_train, y_train)"
   ]
  },
  {
   "cell_type": "code",
   "execution_count": 16,
   "id": "1eee24b8",
   "metadata": {},
   "outputs": [
    {
     "name": "stdout",
     "output_type": "stream",
     "text": [
      "****************************************\n",
      "The adaboost with svc accuracy is:0.7895\n",
      "****************************************\n",
      "The adaboost with SVC AUC score: 0.9739\n",
      "****************************************\n"
     ]
    }
   ],
   "source": [
    "# The Accuracy of adaboost with svc\n",
    "# ----------------------------------\n",
    "print(\"*\"*40)\n",
    "print('The adaboost with svc accuracy is:{:.4f}'.format(\n",
    "   ada_svc_lin.score(X_test,y_test))\n",
    "     ) \n",
    "print(\"*\"*40)\n",
    "\n",
    "# The adaboost with SVC AUC score\n",
    "# -------------------------------\n",
    "y_pred_svc_lin = ada_svc_lin.predict_proba(X_test)\n",
    "fpr_svc_lin, tpr_svc_lin, thresholds = roc_curve(y_test, y_pred_svc_lin[:,1])\n",
    "auc_svc_lin = auc(fpr_svc_lin, tpr_svc_lin)\n",
    "\n",
    "print ('The adaboost with SVC AUC score: {:.4f}'.format(auc_svc_lin))\n",
    "print(\"*\"*40)"
   ]
  },
  {
   "cell_type": "code",
   "execution_count": 17,
   "id": "459bef82",
   "metadata": {},
   "outputs": [
    {
     "data": {
      "image/png": "[encoded data removed]",
      "text/plain": [
       "<Figure size 1008x576 with 1 Axes>"
      ]
     },
     "metadata": {
      "needs_background": "light"
     },
     "output_type": "display_data"
    }
   ],
   "source": [
    "plt.figure(figsize=(14,8))\n",
    "\n",
    "plt.plot(fpr_dtree, tpr_dtree,label=\"Model1: Decison Tree, auc=\"+str(auc_dtree))\n",
    "plt.plot(fpr_ab, tpr_ab,label=\"Model2: Adaboost, auc=\"+str(auc_adaboost))\n",
    "plt.plot(fpr_ab_tuned,tpr_ab_tuned,\n",
    "         label=\"Model3: Adaboost with Tuning, auc=\"+\n",
    "         str(auc_adaboost_tune))\n",
    "\n",
    "plt.plot(fpr_svc_rbf, tpr_svc_rbf, \n",
    "         label=\"Model4: Adaboost with SVC (RBF Kernel), auc=\"+str(auc_svc_rbf))\n",
    "plt.plot(fpr_svc_lin, tpr_svc_lin, \n",
    "         label=\"Model5: Adaboost with SVC (Linear Kernel), auc=\"+str(auc_svc_lin))\n",
    "\n",
    "plt.legend(loc=5)\n",
    "plt.show()"
   ]
  },
  {
   "cell_type": "code",
   "execution_count": 18,
   "id": "04d79f65",
   "metadata": {},
   "outputs": [
    {
     "data": {
      "text/plain": [
       "<Figure size 1008x576 with 0 Axes>"
      ]
     },
     "metadata": {},
     "output_type": "display_data"
    }
   ],
   "source": [
    "dtree = DecisionTreeClassifier(max_depth=3, random_state=1)\n",
    "dtree.fit(X_train, y_train)\n",
    "\n",
    "plt.figure(figsize=(14,8))\n",
    "\n",
    "label = ['Decison Tree', 'Adaboost', 'Adaboost with Tuning',\n",
    "         'Adaboost with SVC (RBF)', 'Adaboost with SVC (Linear)']\n",
    "values = [dtree.score(X_test,y_test),\n",
    "         ada_clf.score(X_test,y_test),\n",
    "         ada_tuned.score(X_test,y_test),\n",
    "         ada_svc_rbf.score(X_test,y_test),\n",
    "         ada_svc_lin.score(X_test,y_test)]"
   ]
  },
  {
   "cell_type": "code",
   "execution_count": 19,
   "id": "f4e7fca9",
   "metadata": {},
   "outputs": [
    {
     "data": {
      "image/png": "[encoded data removed]",
      "text/plain": [
       "<Figure size 432x288 with 1 Axes>"
      ]
     },
     "metadata": {
      "needs_background": "light"
     },
     "output_type": "display_data"
    }
   ],
   "source": [
    "def plot_bar_accuracy():\n",
    "    # this is for plotting purpose\n",
    "    index = np.arange(len(label))\n",
    "    plt.bar(index, values)\n",
    "    plt.xlabel('Algorithms', fontsize=10)\n",
    "    plt.ylabel('Accuracy', fontsize=10)\n",
    "    plt.xticks(index, label, fontsize=10, rotation=90)\n",
    "    plt.title('Model Accuracies')\n",
    "    plt.show()\n",
    "    \n",
    "plot_bar_accuracy()"
   ]
  },
  {
   "cell_type": "code",
   "execution_count": null,
   "id": "d20c671a",
   "metadata": {},
   "outputs": [],
   "source": []
  }
 ],
 "metadata": {
  "kernelspec": {
   "display_name": "Python 3.10.4 ('Ai': venv)",
   "language": "python",
   "name": "python3"
  },
  "language_info": {
   "codemirror_mode": {
    "name": "ipython",
    "version": 3
   },
   "file_extension": ".py",
   "mimetype": "text/x-python",
   "name": "python",
   "nbconvert_exporter": "python",
   "pygments_lexer": "ipython3",
   "version": "3.10.4"
  },
  "vscode": {
   "interpreter": {
    "hash": "981033828bb52986fd88f7efbe2d8b5acce538a964d9ad5897add6d3186d10fc"
   }
  }
 },
 "nbformat": 4,
 "nbformat_minor": 5
}
